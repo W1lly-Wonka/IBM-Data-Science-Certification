{
    "cells": [
        {
            "metadata": {},
            "cell_type": "markdown",
            "source": "# **My Jupyter Notebook on IBM Watson Studio**"
        },
        {
            "metadata": {},
            "cell_type": "markdown",
            "source": "**William Andreas**\n\nData Scientist"
        },
        {
            "metadata": {},
            "cell_type": "markdown",
            "source": "*__I am interested in Data Science because of Data is how we know things__*"
        },
        {
            "metadata": {},
            "cell_type": "markdown",
            "source": "### The following code is how I make a star. Nope. Joking. :) Just a simple thing to do. Putting a list of even numbers out of a list of numbers"
        },
        {
            "metadata": {},
            "cell_type": "code",
            "source": "def genap(n):\n    no = []\n    for i in n:\n        if i % 2 == 0:\n            no.append(i)\n    return no\nprint(genap(range(1,10)))",
            "execution_count": 20,
            "outputs": [
                {
                    "output_type": "stream",
                    "text": "[2, 4, 6, 8]\n",
                    "name": "stdout"
                }
            ]
        },
        {
            "metadata": {},
            "cell_type": "markdown",
            "source": "So, there goes my Coursera project...\n***\nMy lists of study sources:\n1. [Markdown Cheatsheet](https://github.com/adam-p/markdown-here/wiki/Markdown-Cheatsheet)\n1. [Jupyter Wiki](https://github.com/jupyter/jupyter/wiki)\n1. [nbviewer]( https://nbviewer.jupyter.org/)\n\nDon't forget:\n* [Another Markdown Cheatsheet](https://www.markdownguide.org/cheat-sheet/)\n* [Exploratory Data Analysis Example](https://nbviewer.org/github/Tanu-N-Prabhu/Python/blob/master/Exploratory_data_Analysis.ipynb?utm_medium=Exinfluencer&utm_source=Exinfluencer&utm_content=000026UJ&utm_term=10006555&utm_id=NA-SkillsNetwork-wwwcourseraorg-SkillsNetworkCoursesIBMDeveloperSkillsNetworkDS0105ENSkillsNetwork20083975-2022-01-01)\n* [Data Cleaning with Pandas](https://towardsdatascience.com/data-cleaning-with-python-using-pandas-library-c6f4a68ea8eb)\n* [IRIS EDA](https://www.kaggle.com/code/lalitharajesh/iris-dataset-exploratory-data-analysis/notebook?utm_medium=Exinfluencer&utm_source=Exinfluencer&utm_content=000026UJ&utm_term=10006555&utm_id=NA-SkillsNetwork-wwwcourseraorg-SkillsNetworkCoursesIBMDeveloperSkillsNetworkDS0105ENSkillsNetwork20083975-2022-01-01)\n* [k-means algorithm](https://nbviewer.org/github/temporaer/tutorial_ml_gkbionics/blob/master/2%20-%20KMeans.ipynb?utm_medium=Exinfluencer&utm_source=Exinfluencer&utm_content=000026UJ&utm_term=10006555&utm_id=NA-SkillsNetwork-wwwcourseraorg-SkillsNetworkCoursesIBMDeveloperSkillsNetworkDS0105ENSkillsNetwork20083975-2022-01-01)\n\n~~Do harm to others~~\n> Do good to others\n\n![alt text](https://estnn.com/wp-content/uploads/2020/04/IBM-logo-747x420.jpg \"IBM Logo\")\n\n\n| No. | First Name | Last Name | Occupation |\n| :----------- | :----------- | :----------- | :----------- |\n| 1. | `William` | **Andreas** | *Data Scientist* \n\n"
        },
        {
            "metadata": {
                "collapsed": true
            },
            "cell_type": "markdown",
            "source": "[www.ibm.com](https://www.ibm.com/us-en/)"
        }
    ],
    "metadata": {
        "kernelspec": {
            "name": "python3",
            "display_name": "Python 3.9",
            "language": "python"
        },
        "language_info": {
            "name": "python",
            "version": "3.9.7",
            "mimetype": "text/x-python",
            "codemirror_mode": {
                "name": "ipython",
                "version": 3
            },
            "pygments_lexer": "ipython3",
            "nbconvert_exporter": "python",
            "file_extension": ".py"
        }
    },
    "nbformat": 4,
    "nbformat_minor": 1
}